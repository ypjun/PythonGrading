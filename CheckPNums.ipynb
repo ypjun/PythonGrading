{
 "cells": [
  {
   "cell_type": "code",
   "execution_count": 5,
   "metadata": {},
   "outputs": [
    {
     "name": "stdout",
     "output_type": "stream",
     "text": [
      "Starting to check (데이터프로그래밍 기말고사 (2022-06-17 1440)) ======================================\n",
      "\n",
      "Dangers in 송은아 - 송은아-2021240615_6528151_assignsubmission_file_\n",
      "File: 송은아(5).py include ['os']\n",
      "\n",
      "Dangers in 최지승 - 최지승-2021240703_6528148_assignsubmission_file_\n",
      "File: 최지승(3).py include ['os']\n",
      "\n",
      "check finished (데이터프로그래밍 기말고사 (2022-06-17 1440)) =========================================\n"
     ]
    }
   ],
   "source": [
    "# 파이썬 프로그램 자동채점 (파일상태 검사) AutoGrader V1.1\n",
    "# Copyrighted by Young Pyo Jun, ypjun@yonsei.ac.kr\n",
    "# V1.0 (2021.12.19)\n",
    "\n",
    "#-*-encoding:utf-8-*-\n",
    "import pandas as pd\n",
    "import os\n",
    "import re\n",
    "import tkinter as tk\n",
    "from tkinter import filedialog\n",
    "import subprocess as sp\n",
    "import sys\n",
    "\n",
    "from colorama import init, Fore, Back, Style\n",
    "\n",
    "# 채점 프로그램이 있는 폴더를 선택\n",
    "def SelectFile():\n",
    "    fname = \"\"\n",
    "    window = tk.Tk()\n",
    "    window.tkraise()\n",
    "    window.file = filedialog.askdirectory(initialdir=\".\", title=\"Select\")\n",
    "    if window.file != None:\n",
    "        fname = window.file\n",
    "    window.destroy()\n",
    "    return fname\n",
    "\n",
    "def GetPNum(pName):\n",
    "    if pName.split('.')[-1] == 'zip': return -1\n",
    "    if pName.split('.')[-1] != 'py': return 0\n",
    "    nPS = pName.find('(')\n",
    "    nPE = pName.find(')')\n",
    "    if nPS == -1 or nPE == -1:\n",
    "        n = -1\n",
    "    else:\n",
    "        st = pName[nPS+1:nPE]\n",
    "        if st.isdigit():\n",
    "            n = int(st)\n",
    "        else:\n",
    "            n = -1\n",
    "    return n  \n",
    "\n",
    "#################################################################################################\n",
    "HomeDir = SelectFile()    # 분반 폴더 선택\n",
    "if HomeDir:\n",
    "    class_name = HomeDir.split('/')[-1]\n",
    "    os.chdir(HomeDir)\n",
    "    stdDir = HomeDir + '/응시자'\n",
    "\n",
    "    scrFile = \"ScoringTable.xlsx\"\n",
    "#    scrFile = \"Scoring.xlsx\"\n",
    "    scrFrame = pd.read_excel(scrFile, dtype=str)\n",
    "    stFolders = os.listdir(stdDir)\n",
    "else:\n",
    "    stFolders = []\n",
    "    print(\"Exit...\")\n",
    "\n",
    "maxpNum = len(scrFrame)\n",
    "\n",
    "np_list = (\"os\", \"subprocess\", \"sys\", \"popen\", \"call\", \"run\",\n",
    "           \"chdir\", \"mkdir\", \"exec[]*\", \"remove\", \"rmdir\", \"unlink\")\n",
    "np_cut = ()\n",
    "#np_cut = (\"import os\")\n",
    "def check_np(pfile):\n",
    "    fp = open(pfile, \"rt\", encoding='utf-8')\n",
    "    ct = fp.read()\n",
    "    fp.close()\n",
    "    nps = []\n",
    "    for wd in np_list:\n",
    "        if wd in np_cut: continue\n",
    "        #if wd in ct:\n",
    "        if re.search(f\"^{wd}[^_A-Za-z]|[^_A-Za-z]{wd}[^_A-Za-z]\", ct):\n",
    "            nps.append(wd)\n",
    "    return nps\n",
    "\n",
    "print(f\"Starting to check ({class_name}) ======================================\\n\")\n",
    "for stf in stFolders:               # Checking Student\n",
    "    stName, stId = stf.split('-')\n",
    "    stId = int(stId.split('_')[0])\n",
    "    stDir = stdDir+'/'+stf\n",
    "    pyFiles = os.listdir(stDir)\n",
    "#    ans = input(\"Checking for {}({})? [a for all skip, q for Finishing, n for next, 이름 for searching]\".format(stName, stId))\n",
    "    pNums = []\n",
    "    for pyF in pyFiles:             # 각 문제 채점 (문제번호=??)\n",
    "        pNum = GetPNum(pyF)\n",
    "        npl = check_np(f\"{stdDir}/{stf}/{pyF}\")\n",
    "        if npl:\n",
    "            print(\"Dangers in {} - {}\".format(stName, stf))\n",
    "            print(\"File: {} include {}\\n\".format(pyF, npl))\n",
    "        if pNum == 0: continue\n",
    "        if pNum < 1 or pNum > maxpNum or pNum in pNums:\n",
    "            print(\"Numbering error in {} - {}\".format(stName, stf))\n",
    "            print(\"Files: {}\\n\".format(pyFiles))\n",
    "            break\n",
    "        pNums.append(pNum)\n",
    "print(f\"check finished ({class_name}) =========================================\")"
   ]
  },
  {
   "cell_type": "code",
   "execution_count": 108,
   "metadata": {},
   "outputs": [
    {
     "ename": "NameError",
     "evalue": "name 'ct' is not defined",
     "output_type": "error",
     "traceback": [
      "\u001b[1;31m---------------------------------------------------------------------------\u001b[0m",
      "\u001b[1;31mNameError\u001b[0m                                 Traceback (most recent call last)",
      "\u001b[1;32m<ipython-input-108-7898f04a025f>\u001b[0m in \u001b[0;36m<module>\u001b[1;34m\u001b[0m\n\u001b[1;32m----> 1\u001b[1;33m \u001b[0mct\u001b[0m\u001b[1;33m\u001b[0m\u001b[1;33m\u001b[0m\u001b[0m\n\u001b[0m",
      "\u001b[1;31mNameError\u001b[0m: name 'ct' is not defined"
     ]
    }
   ],
   "source": [
    "f\"^{wd}[^_A-Za-z]|[^_A-Za-z]{wd}[^_A-Za-z]\""
   ]
  },
  {
   "cell_type": "code",
   "execution_count": 95,
   "metadata": {},
   "outputs": [
    {
     "ename": "SyntaxError",
     "evalue": "invalid syntax (<ipython-input-95-3f25e134a29c>, line 1)",
     "output_type": "error",
     "traceback": [
      "\u001b[1;36m  File \u001b[1;32m\"<ipython-input-95-3f25e134a29c>\"\u001b[1;36m, line \u001b[1;32m1\u001b[0m\n\u001b[1;33m    s = re.search(\"^a\"^{wd}[^A-Za-z]|[^A-Za-z]{wd}[^A-Za-z]\"\u001b[0m\n\u001b[1;37m                            ^\u001b[0m\n\u001b[1;31mSyntaxError\u001b[0m\u001b[1;31m:\u001b[0m invalid syntax\n"
     ]
    }
   ],
   "source": [
    "s = re.search(\"^a\"^{wd}[^A-Za-z]|[^A-Za-z]{wd}[^A-Za-z]\""
   ]
  },
  {
   "cell_type": "code",
   "execution_count": 114,
   "metadata": {},
   "outputs": [
    {
     "data": {
      "text/plain": [
       "<re.Match object; span=(0, 2), match='a '>"
      ]
     },
     "execution_count": 114,
     "metadata": {},
     "output_type": "execute_result"
    }
   ],
   "source": [
    "re.search(\"^a[^A-Za-z]|[^A-Za-z]a[^A-Za-z]\", \"a bc abc a bc\")"
   ]
  },
  {
   "cell_type": "code",
   "execution_count": null,
   "metadata": {},
   "outputs": [],
   "source": []
  }
 ],
 "metadata": {
  "kernelspec": {
   "display_name": "Python 3",
   "language": "python",
   "name": "python3"
  },
  "language_info": {
   "codemirror_mode": {
    "name": "ipython",
    "version": 3
   },
   "file_extension": ".py",
   "mimetype": "text/x-python",
   "name": "python",
   "nbconvert_exporter": "python",
   "pygments_lexer": "ipython3",
   "version": "3.7.6"
  }
 },
 "nbformat": 4,
 "nbformat_minor": 4
}
